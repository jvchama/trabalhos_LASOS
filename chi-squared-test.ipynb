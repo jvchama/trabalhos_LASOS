{
 "cells": [
  {
   "cell_type": "code",
   "execution_count": null,
   "metadata": {},
   "outputs": [],
   "source": [
    "import pandas as pd\n",
    "import numpy as np\n",
    "import seaborn as sns\n",
    "import matplotlib.pyplot as plt\n",
    "import plotly.express as px\n",
    "import statsmodels.api as sm\n",
    "import scipy.stats as stats\n",
    "from statsmodels.formula.api import ols\n",
    "categorical_var = [\"university\", \"sex\", \"gender_identity\", \"sexual_orientation\", \"ethnic_group\", 'marital_status', 'student_accommodation', \"work\", 'RENDA_categorias', 'student_of', 'sedentary_behavior', \"sedentary_2\", \"phq9\", \"phq9_severity\", \"gad7\", \"gad7_severity\"]\n",
    "db = pd.read_excel(\"BANCO_LIMPO_INT.xlsx\")\n",
    "#for var in categorical_var:\n",
    "#    print(f\"Response counts for {var}:\")\n",
    "#    print(db[var].value_counts())\n",
    "#    print() "
   ]
  },
  {
   "cell_type": "markdown",
   "metadata": {},
   "source": [
    "creating contingency tables for every variable: "
   ]
  },
  {
   "cell_type": "code",
   "execution_count": null,
   "metadata": {},
   "outputs": [],
   "source": [
    "with pd.ExcelWriter('crosstab_variables.xlsx') as writer:    \n",
    "    for col1 in categorical_var:\n",
    "        for col2 in categorical_var:\n",
    "            if col1 != col2: \n",
    "                cont = pd.crosstab(db[col1], db[col2])\n",
    "                cont.loc[''] = cont.sum()\n",
    "                cont[''] = cont.sum(axis=1)\n",
    "                cont = cont.reset_index()\n",
    "                cont.rename(columns={col1: ''}, inplace=True)\n",
    "                sheet_name = f'{col1}_vs_{col2}'[:30]\n",
    "                cont.to_excel(writer, sheet_name=sheet_name, index=False)\n",
    "                \n",
    "        "
   ]
  },
  {
   "cell_type": "markdown",
   "metadata": {},
   "source": [
    "testing for chi-squared and cramer's v:"
   ]
  },
  {
   "cell_type": "code",
   "execution_count": 1,
   "metadata": {},
   "outputs": [
    {
     "ename": "NameError",
     "evalue": "name 'pd' is not defined",
     "output_type": "error",
     "traceback": [
      "\u001b[1;31m---------------------------------------------------------------------------\u001b[0m",
      "\u001b[1;31mNameError\u001b[0m                                 Traceback (most recent call last)",
      "Cell \u001b[1;32mIn[1], line 1\u001b[0m\n\u001b[1;32m----> 1\u001b[0m xlsx_file \u001b[38;5;241m=\u001b[39m \u001b[43mpd\u001b[49m\u001b[38;5;241m.\u001b[39mExcelFile(\u001b[38;5;124m'\u001b[39m\u001b[38;5;124mcrosstab_variables.xlsx\u001b[39m\u001b[38;5;124m'\u001b[39m)\n\u001b[0;32m      2\u001b[0m \u001b[38;5;28;01mfor\u001b[39;00m sheet_name \u001b[38;5;129;01min\u001b[39;00m xlsx_file\u001b[38;5;241m.\u001b[39msheet_names:\n\u001b[0;32m      3\u001b[0m     contingency_table \u001b[38;5;241m=\u001b[39m pd\u001b[38;5;241m.\u001b[39mread_excel(xlsx_file, sheet_name \u001b[38;5;241m=\u001b[39m sheet_name)\n",
      "\u001b[1;31mNameError\u001b[0m: name 'pd' is not defined"
     ]
    }
   ],
   "source": [
    "xlsx_file = pd.ExcelFile('crosstab_variables.xlsx')\n",
    "for sheet_name in xlsx_file.sheet_names:\n",
    "    contingency_table = pd.read_excel(xlsx_file, sheet_name = sheet_name)\n",
    "    contingency_table = contingency_table.fillna(0)\n",
    "    chi2, p, dof, expected = stats.chi2_contingency(contingency_table)\n",
    "    n = contingency_table.to_numpy().sum()\n",
    "    v_cramer = np.sqrt(chi2 / (n * (min(contingency_table.shape) - 1)))\n",
    "    chi_squared_results = pd.DataFrame({\n",
    "                    'Estatística': ['Chi-quadrado', 'valor p', 'Graus de liberdade', \"V de Cramer\"],\n",
    "                    'Valor': [chi2, p, dof, v_cramer]\n",
    "                })\n",
    "    print(\" \")\n",
    "    print(sheet_name)\n",
    "    print(chi_squared_results)\n",
    "    print(\" \")\n",
    "    if p < 0.05: \n",
    "        print(\"Hipótese nula rejeitada; há dependência das variáveis\") \n",
    "        if v_cramer < 0.3: print(\"Dependência fraca entre as variáveis; \")\n",
    "        elif v_cramer > 0.6: print(\"Dependência forte entre variáveis\")\n",
    "        else: print(\"Dependência razoável entre variáveis\")\n",
    "    else: print(\"Hipótese alternativa rejeitada; variáveis independentes\")\n"
   ]
  },
  {
   "cell_type": "markdown",
   "metadata": {},
   "source": []
  }
 ],
 "metadata": {
  "kernelspec": {
   "display_name": "Python 3",
   "language": "python",
   "name": "python3"
  },
  "language_info": {
   "codemirror_mode": {
    "name": "ipython",
    "version": 3
   },
   "file_extension": ".py",
   "mimetype": "text/x-python",
   "name": "python",
   "nbconvert_exporter": "python",
   "pygments_lexer": "ipython3",
   "version": "3.11.9"
  }
 },
 "nbformat": 4,
 "nbformat_minor": 2
}
