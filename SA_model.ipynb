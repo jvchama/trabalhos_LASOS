{
 "cells": [
  {
   "cell_type": "code",
   "execution_count": 3,
   "metadata": {},
   "outputs": [],
   "source": [
    "import pandas as pd\n",
    "import numpy as np\n",
    "import seaborn as sns\n",
    "import matplotlib.pyplot as plt\n",
    "import plotly.express as px\n",
    "import statsmodels.api as sm\n",
    "import scipy.stats as stats\n",
    "from statsmodels.formula.api import ols\n",
    "import sklearn as sk \n",
    "from sklearn.model_selection import train_test_split"
   ]
  },
  {
   "cell_type": "code",
   "execution_count": null,
   "metadata": {},
   "outputs": [],
   "source": [
    "# essa célula serve pra expandir as colunas/linhas do df.head(), assim consigo ver todo o split e entender melhor como ele tá separando\n",
    "# pra voltar pra visualização padrão, só aplico o reset nele\n",
    "\n",
    "pd.set_option(\"display.max_rows\", None)  \n",
    "pd.set_option(\"display.max_columns\", None)  \n",
    "pd.set_option(\"display.width\", None) \n",
    "#pd.reset_option(\"display.max_rows\")\n",
    "#pd.reset_option(\"display.max_columns\")\n",
    "#pd.reset_option(\"display.width\")"
   ]
  },
  {
   "cell_type": "code",
   "execution_count": null,
   "metadata": {},
   "outputs": [],
   "source": [
    "import pandas as pd\n",
    "\n",
    "df = pd.read_excel(\"Global_INT.xlsx\", sheet_name=\"Global-INT\")\n",
    "dicti = [\"continent_code\",\t\"country_code\",\t\"age\",\t\"sex\",\t\"gender_identity\",\t\"sexual_orientation\",\t\"height\",\t\"weight\",\t\"bmi\",\t\"marital_status\",\t\n",
    "         \"student_accommodation\",\t\"work\",\t\"income_reportada_corrigida\",\t\"income_categorias de renda pelo salário mínimo nacional_CLASSIFICAÇÃO\",\t\n",
    "         \"income_razão da renda pelo salário mínimo nacional\",\t\"income_grupos de referência pelo percentil_20,40,60,80,100\",\t\"score_food_smile\",\t\n",
    "         \"score_subs_smile\",\t\"score_Physical Activity_smile\",\t\"score_stress_smile\",\t\"score_social_smile\",\t\"score_sleep_smile\",\t\"score_envir_smile\",\t\n",
    "         \"score_total_smile\",\t\"sedentary_behavior\",\t'sedentary_2',\t\"gad7_score\",\t\"gad7_severidade de sintomas\"]\n",
    "\n",
    "cat_var = [\"continent_code\", \"country_code\", \"sex\",\t\"gender_identity\",\t\"sexual_orientation\", \"marital_status\",\t\n",
    "           \"student_accommodation\",\t\"work\", \"income_grupos de referência pelo percentil_20,40,60,80,100\", \"gad7_severidade de sintomas\",\n",
    "           \"sedentary_behavior\",\t'sedentary_2',]\n",
    "\n",
    "num_var = [\"age\", \"bmi\", \"score_food_smile\", \"score_subs_smile\",\t\"score_Physical Activity_smile\",\t\"score_stress_smile\",\t\n",
    "           \"score_social_smile\",\t\"score_sleep_smile\",\t\"score_envir_smile\",\t\n",
    "           \"score_total_smile\", \"gad7_score\"]\n",
    "\n",
    "df.drop(columns=[\"height\", \"weight\", \"income_reportada_corrigida\",\t\n",
    "                 \"income_categorias de renda pelo salário mínimo nacional_CLASSIFICAÇÃO\",\t\n",
    "                 \"income_razão da renda pelo salário mínimo nacional\",\"income_reportada_corrigida\",\t\n",
    "                 \"income_categorias de renda pelo salário mínimo nacional_CLASSIFICAÇÃO\"],\n",
    "                 inplace = True)\n",
    "\n",
    "for column in cat_var: \n",
    "    if not column == \"gad7_severidade de sintomas\": df[column] = df[column]-1\n",
    "\n",
    "df.to_excel(\"Global_INT_15_02.xlsx\", index = False)\n",
    "print(df.head())"
   ]
  },
  {
   "cell_type": "markdown",
   "metadata": {},
   "source": [
    "Separando os continentes"
   ]
  },
  {
   "cell_type": "code",
   "execution_count": null,
   "metadata": {},
   "outputs": [],
   "source": [
    "import pandas as pd\n",
    "#       separei os continentes em planilhas diferentes porque acho que assim conseguiria compartimentalizar\n",
    "#       o código de forma melhor. também estou mais acostumado a trabalhar com as planilhas assim, já que\n",
    "#       foi dessa forma que as utilizei na Fase 1\n",
    "df = pd.read_excel(\"Global_INT_15_02.xlsx\")\n",
    "\n",
    "print(\"Columns found:\", df.columns.tolist())\n",
    "print(\"Data preview:\\n\", df.head())\n",
    "\n",
    "if \"continent_code\" not in df.columns:\n",
    "    raise ValueError(\"The column 'continent_code' was not found in the file. Please check the header name.\")\n",
    "\n",
    "try:\n",
    "    df[\"continent_code\"] = df[\"continent_code\"].astype(int)\n",
    "except Exception as e:\n",
    "    print(\"Could not convert 'continent_code' to int:\", e)\n",
    "\n",
    "continent_mapping = {\n",
    "    0: \"América do Sul\",\n",
    "    1: \"América do Norte\",\n",
    "    2: \"Oceania\",\n",
    "    3: \"Ásia\",\n",
    "    4: \"África\",\n",
    "    5: \"Europa\"\n",
    "}\n",
    "\n",
    "for code, continent in continent_mapping.items():\n",
    "    subset = df[df[\"continent_code\"] == code]\n",
    "    output_filename = f\"{continent}_MODEL.xlsx\"\n",
    "    subset.to_excel(output_filename, index=False)\n",
    "    print(f\"Created {output_filename} with {len(subset)} rows.\")\n"
   ]
  },
  {
   "cell_type": "markdown",
   "metadata": {},
   "source": [
    "Definição das variáveis"
   ]
  },
  {
   "cell_type": "code",
   "execution_count": 5,
   "metadata": {},
   "outputs": [],
   "source": [
    "import pandas as pd\n",
    "from scipy.stats import ks_2samp, chi2_contingency\n",
    "from sklearn.model_selection import cross_validate, ShuffleSplit\n",
    "from sklearn.impute import KNNImputer\n",
    "from sklearn.preprocessing import StandardScaler, MinMaxScaler, OneHotEncoder\n",
    "from sklearn.pipeline import Pipeline\n",
    "from sklearn.compose import ColumnTransformer\n",
    "\n",
    "#AMÉRICA DO SUL\n",
    "\n",
    "data = pd.read_excel(\"América do Sul_MODEL.xlsx\", sheet_name='Sheet1')\n",
    "\n",
    "cat_col_minus_oh = [\"sex\", \"student_accommodation\", \"work\", \n",
    "                    \"income_grupos de referência pelo percentil_20,40,60,80,100\",\n",
    "                    \"sedentary_behavior\", 'sedentary_2']\n",
    "\n",
    "one_hotted = [\"marital_status\", \"gender_identity\", \"sexual_orientation\", \"country_code\"]                \n",
    "target_col = \"gad7_severidade de sintomas\"\n",
    "\n",
    "data = data.drop(columns=[\"continent_code\", \"gad7_score\", \"score_total_smile\"])\n",
    "\n",
    "X = data.drop(columns=[target_col])\n",
    "y = data[target_col]\n",
    "\n",
    "missing_data_idx = X[X.isna().any(axis=1)].index.to_numpy()\n",
    "complete_data_idx = X.dropna().index.to_numpy()\n",
    "\n",
    "\n",
    "df = pd.DataFrame(data)\n",
    "df.to_excel(\"América do Suil_MODEL_treated.xlsx\", index=False)\n"
   ]
  },
  {
   "cell_type": "code",
   "execution_count": 52,
   "metadata": {},
   "outputs": [
    {
     "data": {
      "text/plain": [
       "<Axes: >"
      ]
     },
     "execution_count": 52,
     "metadata": {},
     "output_type": "execute_result"
    },
    {
     "data": {
      "image/png": "[encoded data removed]",
      "text/plain": [
       "<Figure size 640x480 with 1 Axes>"
      ]
     },
     "metadata": {},
     "output_type": "display_data"
    }
   ],
   "source": [
    "df[target_col].hist()"
   ]
  },
  {
   "cell_type": "markdown",
   "metadata": {},
   "source": [
    "Tratando os splits - separando, codificando e escalonando"
   ]
  },
  {
   "cell_type": "code",
   "execution_count": 6,
   "metadata": {},
   "outputs": [
    {
     "name": "stdout",
     "output_type": "stream",
     "text": [
      "Treino: (6167, 42), Teste: (1210, 42)\n"
     ]
    }
   ],
   "source": [
    "# separando os splits treino/teste (80/20)\n",
    "\n",
    "import pandas as pd\n",
    "from scipy.stats import ks_2samp, chi2_contingency\n",
    "from sklearn.model_selection import cross_validate, ShuffleSplit\n",
    "from sklearn.impute import KNNImputer\n",
    "from sklearn.preprocessing import StandardScaler, MinMaxScaler, OneHotEncoder\n",
    "from sklearn.pipeline import Pipeline\n",
    "from sklearn.compose import ColumnTransformer\n",
    "shuffle_split = ShuffleSplit(n_splits=5, test_size=0.2, random_state=50)\n",
    "splits = []\n",
    "\n",
    "one_hotted = [\"marital_status\", \"gender_identity\", \"sexual_orientation\", \"country_code\", 'sex', 'student_accommodation', 'work']  \n",
    "\n",
    "#cat_noh = ['sex', 'student_accommodation', 'work', 'sedentary_behavior','sedentary_2','income_grupos de referência pelo percentil_20,40,60,80,100']\n",
    "\n",
    "num = ['age', 'bmi', 'score_food_smile', 'score_subs_smile', 'score_Physical Activity_smile',\n",
    "       'score_stress_smile', 'score_social_smile', 'score_sleep_smile',\n",
    "       'score_envir_smile',  'sedentary_behavior','sedentary_2',\n",
    "       'income_grupos de referência pelo percentil_20,40,60,80,100']\n",
    "\n",
    "for train_pos, test_pos in shuffle_split.split(complete_data_idx):\n",
    "    train_idx = complete_data_idx[train_pos]\n",
    "    test_idx = complete_data_idx[test_pos]\n",
    "\n",
    "    train_idx = pd.Index(train_idx).union(missing_data_idx)  \n",
    "\n",
    "    X_train, X_test = X.iloc[train_idx], X.iloc[test_idx]\n",
    "    y_train, y_test = y.iloc[train_idx], y.iloc[test_idx]\n",
    "\n",
    "    # One-hot encoding e StandardScaler\n",
    "    onehot_transformer = OneHotEncoder(sparse_output=False, handle_unknown=\"ignore\")\n",
    "    #scaler_transformer = MinMaxScaler(feature_range=(0, 1))\n",
    "    scaler_transformer = StandardScaler()\n",
    "\n",
    "    preprocessor = ColumnTransformer(\n",
    "        transformers=[\n",
    "            (\"onehot\", onehot_transformer, one_hotted),\n",
    "            (\"scaler\", scaler_transformer, num),\n",
    "        ],\n",
    "        remainder=\"passthrough\"\n",
    "    )\n",
    "\n",
    "    #  codficando e escalonando\n",
    "    X_train_transformed = preprocessor.fit_transform(X_train)\n",
    "    X_test_transformed = preprocessor.transform(X_test)\n",
    "    \n",
    "    #nomeando as variáveis nos splits - melhor visualização\n",
    "    onehot_names = preprocessor.named_transformers_[\"onehot\"].get_feature_names_out(one_hotted)\n",
    "    scaled_names = num\n",
    "\n",
    "    remaining = [col for col in X_train.columns if col not in one_hotted + num]\n",
    "\n",
    "    all_feature_names = np.concatenate([onehot_names, scaled_names, remaining])\n",
    "\n",
    "    X_train = pd.DataFrame(X_train_transformed, index=X_train.index, columns=all_feature_names)\n",
    "    X_test = pd.DataFrame(X_test_transformed, index=X_test.index, columns=all_feature_names)\n",
    "\n",
    "    # guardando splits com os dados transformados\n",
    "    splits.append({\n",
    "        \"X_train\": X_train,\n",
    "        \"X_test\": X_test,\n",
    "        \"y_train\": y_train,\n",
    "        \"y_test\": y_test\n",
    "    })\n",
    "\n",
    "inputed_splits = []\n",
    "knn_imputer = KNNImputer(n_neighbors=5)\n",
    "for split in splits: #iterando pelos splits\n",
    "    \n",
    "    X_train_inputed = pd.DataFrame(knn_imputer.fit_transform(split[\"X_train\"]), \n",
    "                                   columns=split[\"X_train\"].columns)\n",
    "    inputed_splits.append(X_train_inputed)\n",
    "# debugging: check do \"transformer\"\n",
    "print(f\"Treino: {splits[0]['X_train'].shape}, Teste: {splits[0]['X_test'].shape}\")\n",
    "\n",
    "#for split in splits:\n",
    "#    count = split[\"X_train\"][\"age\"].n\n",
    "#        print(split[\"X_train\"][\"age\"])"
   ]
  },
  {
   "cell_type": "code",
   "execution_count": null,
   "metadata": {},
   "outputs": [],
   "source": [
    "splits[3]['X_test'].describe()"
   ]
  },
  {
   "cell_type": "code",
   "execution_count": null,
   "metadata": {},
   "outputs": [],
   "source": [
    "splits[3]['X_train'].describe()"
   ]
  },
  {
   "cell_type": "markdown",
   "metadata": {},
   "source": [
    "Realizando a imputação"
   ]
  },
  {
   "cell_type": "code",
   "execution_count": 7,
   "metadata": {},
   "outputs": [],
   "source": [
    "#após separados, escalonados e codificados, aplicar inputação de dados faltantes\n",
    "#método k-Nearest Neighbour - nota: tentei aumentar e diminuir o n de vizinhos; pouca alteração\n",
    "knn_imputer = KNNImputer(n_neighbors=1)\n",
    "for split in splits:\n",
    "\n",
    "    X_train_imputed = pd.DataFrame(\n",
    "        knn_imputer.fit_transform(split[\"X_train\"]),\n",
    "        columns=split[\"X_train\"].columns,\n",
    "        index=split[\"X_train\"].index\n",
    "    )\n",
    "\n",
    "    split[\"X_train_imputed\"] = X_train_imputed"
   ]
  },
  {
   "cell_type": "code",
   "execution_count": null,
   "metadata": {},
   "outputs": [],
   "source": [
    "splits[0][\"X_train_imputed\"].head()"
   ]
  },
  {
   "cell_type": "code",
   "execution_count": null,
   "metadata": {},
   "outputs": [],
   "source": [
    "splits[1][\"X_train_imputed\"].head()"
   ]
  },
  {
   "cell_type": "markdown",
   "metadata": {},
   "source": [
    "Testeando a similaridade dos dados inputados"
   ]
  },
  {
   "cell_type": "code",
   "execution_count": 8,
   "metadata": {},
   "outputs": [],
   "source": [
    "c2 = ['marital_status_0.0', 'marital_status_1.0', 'marital_status_2.0',\n",
    "       'marital_status_3.0', 'marital_status_4.0', 'marital_status_nan',\n",
    "       'gender_identity_0.0', 'gender_identity_1.0', 'gender_identity_nan',\n",
    "       'sexual_orientation_0.0', 'sexual_orientation_1.0',\n",
    "       'sexual_orientation_2.0', 'sexual_orientation_3.0',\n",
    "       'sexual_orientation_4.0', 'sexual_orientation_nan', 'country_code_0',\n",
    "       'country_code_1', 'country_code_2', 'country_code_3', 'country_code_4',\n",
    "       'country_code_5', \"sex_0.0\",\t\"sex_1.0\",\t\"sex_nan\",\t\"student_accommodation_0.0\",\t\n",
    "       \"student_accommodation_1.0\",\t\"student_accommodation_nan\",\t\"work_0.0\",\t\"work_1.0\",\t\"work_nan\"] \n",
    "\n",
    "ks = ['age', 'bmi', 'income_grupos de referência pelo percentil_20,40,60,80,100', \n",
    "      'score_food_smile', 'score_subs_smile', 'score_Physical Activity_smile',\n",
    "      'score_stress_smile', 'score_social_smile', 'score_sleep_smile',\n",
    "      'score_envir_smile', 'sedentary_behavior','sedentary_2']\n",
    "\n",
    "for i, split in enumerate(splits):\n",
    "\n",
    "    X_train_imputed = splits[i][\"X_train_imputed\"]\n",
    "\n",
    "    #testando a similaridade dos dados inputados vs originais\n",
    "    for col in split[\"X_train\"].columns:\n",
    "        #teste KS para variáveis numéricas\n",
    "        if col in ks:\n",
    "            original_values = split[\"X_train\"][col].dropna()\n",
    "            imputed_values = X_train_imputed[col]\n",
    "\n",
    "            ks_stat, p_value = ks_2samp(original_values, imputed_values)\n",
    "\n",
    "            if p_value < 0.05: print(f\"Variável {col}  NÃO tem distribuições similares (failed null-hypothesis) - {p_value}\")\n",
    "            #else: print(f\"Variável {col} NÃO tem distribuições similares (proved null-hypothesis) - {p_value}\")\n",
    "\n",
    "        #chi-quadrado para testar variação entre categóricas\n",
    "        elif col in c2:\n",
    "            original_counts = split[\"X_train\"][col].value_counts()\n",
    "            imputed_counts = X_train_imputed[col].round().astype(int).value_counts()\n",
    "\n",
    "            original_counts= original_counts.reindex(imputed_counts.index, fill_value=0)\n",
    "            imputed_counts= imputed_counts.reindex(original_counts.index, fill_value=0)\n",
    "\n",
    "            chi2, p_value, _, _ = chi2_contingency([original_counts, imputed_counts])\n",
    "\n",
    "            if p_value < 0.05: print(f\"Variável {col} AFETADA pela inputação (failed null-hypothesis) - {p_value}\")\n",
    "            #else: print(f\"Variável {col} AFETADA pela inputação (proved null-hypothesis) - {p_value}\")"
   ]
  },
  {
   "cell_type": "markdown",
   "metadata": {},
   "source": [
    "Testando modelos"
   ]
  },
  {
   "cell_type": "markdown",
   "metadata": {},
   "source": [
    "Separei as células dos \"searchers\" (Grid e Random) da célula com os modelos. \n",
    "Penso que a visualização fica melhor dessa forma"
   ]
  },
  {
   "cell_type": "code",
   "execution_count": null,
   "metadata": {},
   "outputs": [
    {
     "name": "stdout",
     "output_type": "stream",
     "text": [
      "0.4206611570247934\n"
     ]
    },
    {
     "data": {
      "image/png": "[encoded data removed]",
      "text/plain": [
       "<Figure size 640x480 with 2 Axes>"
      ]
     },
     "metadata": {},
     "output_type": "display_data"
    }
   ],
   "source": [
    "#RandomForest\n",
    "\n",
    "import matplotlib.pyplot as plt\n",
    "from sklearn.ensemble import RandomForestClassifier\n",
    "from sklearn.metrics import accuracy_score, classification_report\n",
    "from sklearn.metrics import confusion_matrix, ConfusionMatrixDisplay\n",
    "from sklearn.model_selection import GridSearchCV\n",
    "from sklearn.decomposition import PCA\n",
    "\n",
    "split = splits[0]\n",
    "\n",
    "X_train = split['X_train_imputed']\n",
    "X_test = split['X_test']\n",
    "y_train = split['y_train']\n",
    "y_test = split['y_test']\n",
    "\n",
    "#   escrevi aqui os valores dos hiperparametros que utilizei, mais para guardar um histórico\n",
    "#   GridSearch 1: (max_depth=10, min_samples_split=10, n_estimators=200) - 0.422\n",
    "\n",
    "clf_rf = RandomForestClassifier(random_state=42, \n",
    "                                n_estimators=500,\n",
    "                                max_depth=10,\n",
    "                                min_samples_split=2,\n",
    "                                min_samples_leaf=1,\n",
    "                                max_features='log2',\n",
    "                                criterion='gini',\n",
    "                                bootstrap=True)\n",
    "clf_rf.fit(X_train, y_train)\n",
    "\n",
    "predictions = clf_rf.predict(X_test)\n",
    "\n",
    "acc = accuracy_score(y_test, predictions)\n",
    "print(acc)\n",
    "\n",
    "cm = confusion_matrix(y_test, predictions, labels=clf_rf.classes_)\n",
    "mtx = ConfusionMatrixDisplay(confusion_matrix=cm, display_labels=clf_rf.classes_)\n",
    "mtx.plot()\n",
    "plt.show()"
   ]
  },
  {
   "cell_type": "markdown",
   "metadata": {},
   "source": [
    "Algumas constantes nas ConfusionMatrix (posso mostrar as outras depois) são:\n",
    "1. dificuldade de diferenciação entre 0 x 1 e 2 x 3\n",
    "2. o modelo tende a \"predizer pouco\" a variável 2 - possivelmente tem dificuldade em diferenciar da 1 e da 3\n",
    "Isso tanto para o RandomForest quanto para o SVM"
   ]
  },
  {
   "cell_type": "code",
   "execution_count": null,
   "metadata": {},
   "outputs": [],
   "source": [
    "#GridSearch - RandomForest\n",
    "\n",
    "from sklearn.pipeline import Pipeline\n",
    "from sklearn.ensemble import RandomForestClassifier\n",
    "from sklearn.model_selection import GridSearchCV\n",
    "\n",
    "split = splits[0]\n",
    "X_train, y_train = split['X_train_imputed'], split['y_train']\n",
    "\n",
    "pipeline = Pipeline([\n",
    "    ('rf',  RandomForestClassifier())\n",
    "])\n",
    "\n",
    "param = {\n",
    "    'rf__n_estimators': [50, 100, 200, 300, 500],\n",
    "    'rf__max_depth': [None, 10, 20, 30, 50, 70],\n",
    "    'rf__min_samples_split': [2, 5, 10],\n",
    "    'rf__min_samples_leaf': [1, 2, 4],\n",
    "    'rf__max_features': ['sqrt', 'log2', None],\n",
    "    'rf__bootstrap': [True, False],\n",
    "    'rf__criterion': ['gini', 'entropy']\n",
    "}\n",
    "\n",
    "opt_params = GridSearchCV(\n",
    "    pipeline,\n",
    "    param_grid=param,\n",
    "    scoring='accuracy',\n",
    "    cv=10,\n",
    "    verbose=0,\n",
    "    n_jobs=-1,\n",
    ")\n",
    "\n",
    "opt_params.fit(X_train, y_train)\n",
    "print(\"Parameters: \", opt_params.best_params_)\n",
    "print(\"Estimators: \", opt_params.best_estimator_)\n",
    "print(\"Melhor score: \",opt_params.best_score_)"
   ]
  },
  {
   "cell_type": "code",
   "execution_count": null,
   "metadata": {},
   "outputs": [
    {
     "name": "stdout",
     "output_type": "stream",
     "text": [
      "0.41570247933884297\n"
     ]
    },
    {
     "data": {
      "image/png": "[encoded data removed]",
      "text/plain": [
       "<Figure size 640x480 with 2 Axes>"
      ]
     },
     "metadata": {},
     "output_type": "display_data"
    }
   ],
   "source": [
    "#SVM \n",
    "\n",
    "import matplotlib.pyplot as plt\n",
    "from sklearn.svm import SVC\n",
    "from sklearn.metrics import accuracy_score, classification_report\n",
    "from sklearn.model_selection import GridSearchCV\n",
    "from sklearn.metrics import confusion_matrix, ConfusionMatrixDisplay\n",
    "from sklearn.decomposition import PCA\n",
    "\n",
    "split = splits[0]\n",
    "\n",
    "X_train = split['X_train_imputed']\n",
    "X_test = split['X_test']\n",
    "y_train = split['y_train']\n",
    "y_test = split['y_test']\n",
    "\n",
    "#   escrevi aqui os valores dos hiperparametros que utilizei, mais para guardar um histórico\n",
    "\n",
    "#   primeira grid search: 'C': 100, 'gamma': 0.0001, 'kernel': 'rbf'} - 0.418\n",
    "#   segunda grid search: 'C': 100, 'gamma': 0.0001, 'kernel': 'rbf'}, SVC balanced - 0.410\n",
    "#   terceira grid search: 'C': 10, 'gamma': 0.0001, 'kernel': 'rbf'}, SVC balanced - 0.404\n",
    "    \n",
    "#   RandomSearch - 'C': 10, 'gamma': 0.001, 'kernel': 'rbf'}, SVC  - 0.424\n",
    "#   RandomSearch 2 - 'C': 100, 'gamma': 0.001, 'kernel': 'rbf'}, SVC - 0.415\n",
    "\n",
    "clf_svm = SVC(random_state=42, kernel='rbf', gamma=0.001, C=100)\n",
    "clf_svm.fit(X_train, y_train)\n",
    "\n",
    "predictions = clf_svm.predict(X_test)\n",
    "\n",
    "acc = accuracy_score(y_test, predictions)\n",
    "print(acc)\n",
    "\n",
    "cm = confusion_matrix(y_test, predictions, labels=clf_svm.classes_)\n",
    "mtx = ConfusionMatrixDisplay(confusion_matrix=cm, \n",
    "                             display_labels=clf_svm.classes_)\n",
    "mtx.plot()\n",
    "plt.show()"
   ]
  },
  {
   "cell_type": "code",
   "execution_count": null,
   "metadata": {},
   "outputs": [],
   "source": [
    "splits[0][\"y_train\"].hist()"
   ]
  },
  {
   "cell_type": "code",
   "execution_count": null,
   "metadata": {},
   "outputs": [],
   "source": [
    "#GridSearchCV - SVM\n",
    "\n",
    "from sklearn.pipeline import Pipeline\n",
    "\n",
    "split = splits[0]\n",
    "X_train, y_train = split['X_train_imputed'], split['y_train']\n",
    "\n",
    "pipeline = Pipeline([\n",
    "    ('svc',  SVC())\n",
    "])\n",
    "\n",
    "param_grid = {\n",
    "    'svc__C': [0.1, 1, 10, 100, 1000],\n",
    "     'svc__gamma': ['scale', 1, 0.1, 0.01, 0.001, 0.0001],\n",
    "     'svc__kernel': ['rbf', 'poly']\n",
    "}\n",
    "\n",
    "opt_params = GridSearchCV(\n",
    "    pipeline,\n",
    "    param_grid=param_grid,\n",
    "    scoring='accuracy',\n",
    "    cv=10,\n",
    "    verbose=0,\n",
    "    n_jobs=-1 \n",
    ")\n",
    "\n",
    "opt_params.fit(X_train, y_train)\n",
    "print(\"Parameters: \", opt_params.best_params_)\n",
    "print(\"Estimators: \", opt_params.best_estimator_)\n",
    "print(\"Melhor score: \",opt_params.best_score_)"
   ]
  },
  {
   "cell_type": "code",
   "execution_count": null,
   "metadata": {},
   "outputs": [
    {
     "name": "stdout",
     "output_type": "stream",
     "text": [
      "Parameters:  {'svc__kernel': 'rbf', 'svc__gamma': 0.0001, 'svc__C': 100}\n",
      "Estimators:  Pipeline(steps=[('svc', SVC(C=100, gamma=0.0001))])\n",
      "Melhor score:  0.354925382559094\n"
     ]
    }
   ],
   "source": [
    "#RandomSearchCV - SVM\n",
    "\n",
    "from sklearn.model_selection import RandomizedSearchCV\n",
    "from sklearn.pipeline import Pipeline\n",
    "from sklearn.svm import SVC\n",
    "\n",
    "split = splits[0]\n",
    "X_train, y_train = split['X_train_imputed'], split['y_train']\n",
    "\n",
    "pipeline = Pipeline([\n",
    "    ('svc',  SVC())\n",
    "])\n",
    "\n",
    "param_grid = {\n",
    "    'svc__C': [0.1, 1, 10, 100, 1000],\n",
    "     'svc__gamma': ['scale', 1, 0.1, 0.01, 0.001, 0.0001],\n",
    "     'svc__kernel': ['rbf', 'poly']\n",
    "}\n",
    "\n",
    "opt_params = RandomizedSearchCV(\n",
    "    pipeline,\n",
    "    param_distributions=param_grid,\n",
    "    n_iter=20,\n",
    "    scoring='accuracy',\n",
    "    cv=10,\n",
    "    verbose=0,\n",
    "    random_state=42,\n",
    "    n_jobs=-1 \n",
    ")\n",
    "\n",
    "opt_params.fit(X_train, y_train)\n",
    "print(\"Parameters: \", opt_params.best_params_)\n",
    "print(\"Estimators: \", opt_params.best_estimator_)\n",
    "print(\"Melhor score: \",opt_params.best_score_)"
   ]
  },
  {
   "cell_type": "code",
   "execution_count": null,
   "metadata": {},
   "outputs": [],
   "source": [
    "import lightgbm as lgb\n",
    "from sklearn.metrics import mean_squared_error\n",
    "from scipy.stats import uniform, randint\n",
    "\n",
    "split = splits[0]\n",
    "X_train, y_train = split['X_train_imputed'], split['y_train']\n",
    "\n",
    "train_data = lgb.Dataset(X_train, label=y_train)\n",
    "test_data = lgb.Dataset(X_test, label=y_test)\n",
    "\n",
    "parameters = {\n",
    "    'objective': 'binary',\n",
    "    'metric':'auc',\n",
    "    'is_unbalance':'true',\n",
    "    'boosting': 'gbdt',\n",
    "    'num_leaves': 63,\n",
    "    'learning_rate': 0.01\n",
    "}\n",
    "\n",
    "model_lgbm = lgb.train(parameters,\n",
    "                       train_data,\n",
    "                       valid_sets=test_data)\n",
    "\n",
    "param_grid = {\n",
    "    'objective': 'binary',\n",
    "    'metric':'auc',\n",
    "    'is_unbalance':'true',\n",
    "    'boosting': 'gbdt',\n",
    "    'num_leaves': randint(20, 50),\n",
    "    'learning_rate': uniform(0.01, 0.1), \n",
    "    'n_estimators': randint(50, 200),\n",
    "    'min_child_samples': randint(10, 50),\n",
    "    'subsample': uniform(0.6, 0.4),      \n",
    "    'colsample_bytree': uniform(0.6, 0.4)\n",
    "}\n",
    "\n",
    "random_search = RandomizedSearchCV(\n",
    "    estimator=lgb_regression,\n",
    "    param_distributions=param_grid,\n",
    "    n_iter=50,   \n",
    "    scoring='neg_mean_squared_error',\n",
    "    cv=10,\n",
    "    verbose=1,\n",
    "    random_state=42,\n",
    "    n_jobs=-1 \n",
    ")\n",
    "\n",
    "random_search.fit(X_train, y_train)\n",
    "\n",
    "print(\"Best parameters found:\", random_search.best_params_)\n",
    "best_rmse = (-random_search.best_score_)**0.5\n",
    "print(\"Best cross-validated RMSE:\", best_rmse)\n",
    "\n",
    "y_pred = random_search.predict(X_test)\n",
    "test_mse = mean_squared_error(y_test, y_pred)\n",
    "print(\"Test set MSE:\", test_mse)"
   ]
  }
 ],
 "metadata": {
  "kernelspec": {
   "display_name": "Python 3",
   "language": "python",
   "name": "python3"
  },
  "language_info": {
   "codemirror_mode": {
    "name": "ipython",
    "version": 3
   },
   "file_extension": ".py",
   "mimetype": "text/x-python",
   "name": "python",
   "nbconvert_exporter": "python",
   "pygments_lexer": "ipython3",
   "version": "3.11.9"
  }
 },
 "nbformat": 4,
 "nbformat_minor": 2
}
