{
 "cells": [
  {
   "cell_type": "code",
   "execution_count": 24,
   "metadata": {},
   "outputs": [
    {
     "name": "stdout",
     "output_type": "stream",
     "text": [
      "sex          1.0   2.0  Total\n",
      "university                   \n",
      "1            385   143    528\n",
      "2            817     0    817\n",
      "3            647     0    647\n",
      "4              0   127    127\n",
      "5            725     0    725\n",
      "6              0   200    200\n",
      "7            936     0    936\n",
      "8              0   495    495\n",
      "9              0   343    343\n",
      "10             0   171    171\n",
      "11             0   501    501\n",
      "12             0   324    324\n",
      "Total       3510  2304   5814\n"
     ]
    }
   ],
   "source": [
    "import pandas as pd\n",
    "import numpy as np\n",
    "\n",
    "data_file = 'questionnaire_data.xlsx'\n",
    "xls = pd.ExcelFile(data_file)\n",
    "\n",
    "data_expanded = {}\n",
    "\n",
    "for sheet_name in xls.sheet_names:\n",
    "    df = pd.read_excel(xls, sheet_name=sheet_name)\n",
    "    expanded_df = df.loc[df.index.repeat(df['count'])].drop(columns=['count']).reset_index(drop=True)\n",
    "    data_expanded[sheet_name] = expanded_df\n",
    "\n",
    "university_expanded = data_expanded['university']\n",
    "sex_expanded = data_expanded['sex']\n",
    "\n",
    "merged_df = pd.concat([university_expanded, sex_expanded], axis=1)\n",
    "contingency_table_with_totals = pd.crosstab(merged_df.iloc[:, 0], merged_df.iloc[:, 1], margins=True, margins_name='Total')\n",
    "\n",
    "print(contingency_table_with_totals)\n",
    "\n",
    "contingency_table_with_totals_df = contingency_table_with_totals.reset_index()\n",
    "with pd.ExcelWriter(\"contingency_table_with_totals.xlsx\") as writer:\n",
    "    contingency_table_with_totals_df.to_excel(writer, sheet_name='Contingency_Table', index=False)\n"
   ]
  },
  {
   "cell_type": "code",
   "execution_count": 20,
   "metadata": {},
   "outputs": [
    {
     "name": "stdout",
     "output_type": "stream",
     "text": [
      "Excel file with separate mini-sheets for each variable created successfully.\n",
      "Contingency Table with Totals:\n",
      "sex          1.0   2.0   All\n",
      "university                  \n",
      "1            385   143   528\n",
      "2            817     0   817\n",
      "3            647     0   647\n",
      "4              0   127   127\n",
      "5            725     0   725\n",
      "6              0   200   200\n",
      "7            936     0   936\n",
      "8              0   495   495\n",
      "9              0   343   343\n",
      "10             0   171   171\n",
      "11             0   501   501\n",
      "12             0   324   324\n",
      "All         3510  2304  5814\n",
      "Contingency table with totals saved to Excel file successfully.\n"
     ]
    }
   ],
   "source": [
    "import pandas as pd\n",
    "import numpy as np\n",
    "\n",
    "# Creating dictionaries with data from each response count\n",
    "data_dict = {\n",
    "    \"university\": {\"university\": [7, 2, 5, 3, 1, 11, 8, 9, 12, 6, 10, 4], \"count\": [936, 817, 725, 647, 528, 501, 495, 343, 324, 200, 171, 140]},\n",
    "    \"sex\": {\"sex\": [1.0, 2.0], \"count\": [3510, 2304]},\n",
    "    \"gender_identity\": {\"gender_identity\": [1.0, 3.0, 2.0], \"count\": [5573, 158, 39]},\n",
    "    \"sexual_orientation\": {\"sexual_orientation\": [1.0, 3.0, 2.0, 4.0, 5.0], \"count\": [3811, 1191, 444, 193, 150]},\n",
    "    \"ethnic_group\": {\"ethnic_group\": [1.0, 3.0, 2.0, 4.0, 5.0, 6.0], \"count\": [2913, 2069, 740, 45, 22, 16]},\n",
    "    \"marital_status\": {\"marital_status\": [2.0, 5.0, 1.0, 4.0, 3.0], \"count\": [5460, 184, 149, 14, 2]},\n",
    "    \"student_accommodation\": {\"student_accommodation\": [2.0, 1.0], \"count\": [5699, 115]},\n",
    "    \"work\": {\"work\": [2.0, 1.0], \"count\": [4641, 1162]},\n",
    "    \"RENDA_categorias\": {\"RENDA_categorias\": [2.0, 4.0, 1.0, 5.0, 3.0, 6.0], \"count\": [1533, 939, 860, 751, 741, 453]},\n",
    "    \"student_of\": {\"student_of\": [1.0, 2.0], \"count\": [5388, 420]},\n",
    "    \"sedentary_behavior\": {\"sedentary_behavior\": [3.0, 4.0, 2.0, 5.0, 1.0], \"count\": [2092, 1706, 1240, 544, 239]},\n",
    "    \"sedentary_2\": {\"sedentary_2\": [1.0, 2.0, 3.0, 4.0, 5.0], \"count\": [2342, 1773, 1052, 488, 167]},\n",
    "    \"phq9\": {\"phq9\": [1.0, 0.0], \"count\": [3031, 2601]},\n",
    "    \"phq9_severity\": {\"phq9_severity\": [1.0, 2.0, 0.0, 3.0, 4.0], \"count\": [1340, 1309, 1262, 1009, 713]},\n",
    "    \"gad7\": {\"gad7\": [0.0, 1.0], \"count\": [2845, 2789]},\n",
    "    \"gad7_severity\": {\"gad7_severity\": [1.0, 2.0, 3.0, 0.0], \"count\": [1616, 1410, 1379, 1229]}\n",
    "}\n",
    "\n",
    "# Create an Excel writer object\n",
    "with pd.ExcelWriter('questionnaire_data.xlsx') as writer:\n",
    "    for sheet_name, data in data_dict.items():\n",
    "        df = pd.DataFrame(data)\n",
    "        df.to_excel(writer, sheet_name=sheet_name, index=False)\n",
    "\n",
    "print(\"Excel file with separate mini-sheets for each variable created successfully.\")\n",
    "\n",
    "# Load the Excel file\n",
    "data_file = 'questionnaire_data.xlsx'\n",
    "xls = pd.ExcelFile(data_file)\n",
    "\n",
    "# Load specific sheets as DataFrames\n",
    "university_df = pd.read_excel(xls, sheet_name='university')\n",
    "sex_df = pd.read_excel(xls, sheet_name='sex')\n",
    "\n",
    "# Expand the 'count' column to repeat each value, creating a larger dataset for analysis\n",
    "university_expanded = university_df.loc[university_df.index.repeat(university_df['count'])].drop(columns=['count']).reset_index(drop=True)\n",
    "sex_expanded = sex_df.loc[sex_df.index.repeat(sex_df['count'])].drop(columns=['count']).reset_index(drop=True)\n",
    "\n",
    "# Merge the expanded DataFrames on their index to simulate the original data structure\n",
    "merged_df = pd.concat([university_expanded, sex_expanded], axis=1)\n",
    "\n",
    "# Create a contingency matrix using pd.crosstab(), including margins for totals\n",
    "contingency_table_with_totals = pd.crosstab(merged_df['university'], merged_df['sex'], margins=True)\n",
    "\n",
    "# Display the contingency table with totals\n",
    "print(\"Contingency Table with Totals:\")\n",
    "print(contingency_table_with_totals)\n",
    "\n",
    "print(\"Contingency table with totals saved to Excel file successfully.\")\n"
   ]
  }
 ],
 "metadata": {
  "kernelspec": {
   "display_name": "Python 3",
   "language": "python",
   "name": "python3"
  },
  "language_info": {
   "codemirror_mode": {
    "name": "ipython",
    "version": 3
   },
   "file_extension": ".py",
   "mimetype": "text/x-python",
   "name": "python",
   "nbconvert_exporter": "python",
   "pygments_lexer": "ipython3",
   "version": "3.11.9"
  }
 },
 "nbformat": 4,
 "nbformat_minor": 2
}
