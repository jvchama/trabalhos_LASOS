{
 "cells": [
  {
   "cell_type": "code",
   "execution_count": 19,
   "metadata": {},
   "outputs": [],
   "source": [
    "import pandas as pd\n",
    "import numpy as np\n",
    "import seaborn as sns\n",
    "import matplotlib.pyplot as plt\n",
    "import plotly.express as px\n",
    "import statsmodels.api as sm\n",
    "import scipy.stats as stats\n",
    "from statsmodels.formula.api import ols\n",
    "categorical_var = [\"university\", \"sex\", \"gender_identity\", \"sexual_orientation\", \"ethnic_group\", 'marital_status', 'student_accommodation', \"work\", 'RENDA_categorias', 'student_of', 'sedentary_behavior', \"sedentary_2\", \"phq9\", \"phq9_severity\", \"gad7\", \"gad7_severity\"]\n",
    "db = pd.read_excel(\"BANCO_LIMPO_INT.xlsx\")\n",
    "#for var in categorical_var:\n",
    "#    print(f\"Response counts for {var}:\")\n",
    "#    print(db[var].value_counts())\n",
    "#    print() "
   ]
  },
  {
   "cell_type": "markdown",
   "metadata": {},
   "source": [
    "creating contingency tables for every variable: "
   ]
  },
  {
   "cell_type": "code",
   "execution_count": 11,
   "metadata": {},
   "outputs": [],
   "source": [
    "xls = pd.ExcelFile('cat-tot-sheet.xlsx')\n",
    "data_expanded = {}\n",
    "for sheet_name in xls.sheet_names:\n",
    "    df = pd.read_excel(xls, sheet_name=sheet_name)\n",
    "    expanded_df = df.loc[df.index.repeat(df['count'])].drop(columns=['count']).reset_index(drop=True)\n",
    "    data_expanded[sheet_name] = expanded_df\n",
    "with pd.ExcelWriter('contingency_tables.xlsx') as writer:\n",
    "    for var1 in xls.sheet_names:\n",
    "        for var2 in xls.sheet_names:\n",
    "            if var1 != var2:\n",
    "                merged = pd.concat([data_expanded[var1], data_expanded[var2]], axis=1)\n",
    "                contingency_table = pd.crosstab(merged.iloc[:, 0], merged.iloc[:, 1], margins=True, margins_name='Total')\n",
    "                contingency_table_df = contingency_table.reset_index()\n",
    "                sheet_name = f'{var1}_vs_{var2}'[:30] \n",
    "                contingency_table_df.to_excel(writer, sheet_name=sheet_name, index=False)\n"
   ]
  },
  {
   "cell_type": "markdown",
   "metadata": {},
   "source": [
    "testing for chi-squared and cramer's v:"
   ]
  },
  {
   "cell_type": "code",
   "execution_count": null,
   "metadata": {},
   "outputs": [],
   "source": [
    "xlsx_file = pd.ExcelFile('contingency_tables.xlsx')\n",
    "for sheet_name in xlsx_file.sheet_names:\n",
    "    contingency_table = pd.read_excel(xlsx_file, sheet_name = sheet_name, index_col = 0)\n",
    "    chi2, p, dof, expected = stats.chi2_contingency(contingency_table)\n",
    "    n = contingency_table.to_numpy().sum()\n",
    "    v_cramer = np.sqrt(chi2 / (n * (min(contingency_table.shape) - 1)))\n",
    "    chi_squared_results = pd.DataFrame({\n",
    "                    'Estatística': ['Chi-quadrado', 'valor p', 'Graus de liberdade', \"V de Cramer\"],\n",
    "                    'Valor': [chi2, p, dof, v_cramer]\n",
    "                })\n",
    "    print(\" \")\n",
    "    print(sheet_name)\n",
    "    print(chi_squared_results)\n",
    "    print(\" \")\n",
    "    if p < 0.05: \n",
    "        print(\"Hipótese nula rejeitada; há dependência das variáveis\") \n",
    "        if v_cramer < 0.3: print(\"Dependência fraca entre as variáveis; \")\n",
    "        elif v_cramer > 0.6: print(\"Dependência forte entre variáveis\")\n",
    "        else: print(\"Dependência razoável entre variáveis\")\n",
    "    else: print(\"Hipótese alternativa rejeitada; variáveis independentes\")\n"
   ]
  }
 ],
 "metadata": {
  "kernelspec": {
   "display_name": "Python 3",
   "language": "python",
   "name": "python3"
  },
  "language_info": {
   "codemirror_mode": {
    "name": "ipython",
    "version": 3
   },
   "file_extension": ".py",
   "mimetype": "text/x-python",
   "name": "python",
   "nbconvert_exporter": "python",
   "pygments_lexer": "ipython3",
   "version": "3.11.9"
  }
 },
 "nbformat": 4,
 "nbformat_minor": 2
}
